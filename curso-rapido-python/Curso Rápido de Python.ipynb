{
 "cells": [
  {
   "cell_type": "code",
   "execution_count": 3,
   "metadata": {},
   "outputs": [
    {
     "name": "stdout",
     "output_type": "stream",
     "text": [
      "1\n",
      "1\n",
      "2\n",
      "2\n",
      "3\n",
      "3\n",
      "4\n",
      "4\n",
      "5\n",
      "5\n",
      "6\n",
      "1\n",
      "2\n",
      "1\n",
      "3\n",
      "2\n",
      "4\n",
      "3\n",
      "5\n",
      "4\n",
      "6\n",
      "5\n",
      "7\n",
      "2\n",
      "3\n",
      "1\n",
      "4\n",
      "2\n",
      "5\n",
      "3\n",
      "6\n",
      "4\n",
      "7\n",
      "5\n",
      "8\n",
      "3\n",
      "4\n",
      "1\n",
      "5\n",
      "2\n",
      "6\n",
      "3\n",
      "7\n",
      "4\n",
      "8\n",
      "5\n",
      "9\n",
      "4\n",
      "5\n",
      "1\n",
      "6\n",
      "2\n",
      "7\n",
      "3\n",
      "8\n",
      "4\n",
      "9\n",
      "5\n",
      "10\n",
      "5\n",
      "done looping\n"
     ]
    }
   ],
   "source": [
    "for i in [1, 2, 3, 4, 5]:\n",
    "    print(i)\n",
    "    for j in [1, 2, 3, 4, 5]:\n",
    "        print(j)\n",
    "        print(i + j)\n",
    "    print(i)\n",
    "print(\"done looping\")"
   ]
  },
  {
   "cell_type": "code",
   "execution_count": 4,
   "metadata": {},
   "outputs": [],
   "source": [
    "long_winded_computation = (1 + 2 + 3 + 4 + 5 + 6 + 7 + 8 + 9 + 10 + 11 +\n",
    "12 +\n",
    "13 + 14 + 15 + 16 + 17 + 18 + 19 + 20)\n",
    "list_of_lists = [[1, 2, 3], [4, 5, 6], [7, 8, 9]]\n",
    "easier_to_read_list_of_lists = [ [1, 2, 3],\n",
    " [4, 5, 6],\n",
    " [7, 8, 9] ]"
   ]
  },
  {
   "cell_type": "code",
   "execution_count": 5,
   "metadata": {},
   "outputs": [
    {
     "name": "stdout",
     "output_type": "stream",
     "text": [
      "[[1, 2, 3], [4, 5, 6], [7, 8, 9]]\n"
     ]
    }
   ],
   "source": [
    "print(easier_to_read_list_of_lists)"
   ]
  },
  {
   "cell_type": "code",
   "execution_count": 6,
   "metadata": {},
   "outputs": [],
   "source": [
    "two_plus_three = 2 + \\\n",
    " 3"
   ]
  },
  {
   "cell_type": "code",
   "execution_count": 7,
   "metadata": {},
   "outputs": [
    {
     "data": {
      "text/plain": [
       "5"
      ]
     },
     "execution_count": 7,
     "metadata": {},
     "output_type": "execute_result"
    }
   ],
   "source": [
    "two_plus_three"
   ]
  },
  {
   "cell_type": "code",
   "execution_count": 8,
   "metadata": {},
   "outputs": [],
   "source": [
    "import re\n",
    "my_regex = re.compile(\"[0-9]+\", re.I)"
   ]
  },
  {
   "cell_type": "code",
   "execution_count": 9,
   "metadata": {},
   "outputs": [
    {
     "name": "stdout",
     "output_type": "stream",
     "text": [
      "71\n"
     ]
    }
   ],
   "source": [
    "print(my_regex.match(\"71abc\").group())"
   ]
  },
  {
   "cell_type": "code",
   "execution_count": 10,
   "metadata": {},
   "outputs": [],
   "source": [
    "import matplotlib.pyplot as plt"
   ]
  },
  {
   "cell_type": "code",
   "execution_count": 11,
   "metadata": {},
   "outputs": [],
   "source": [
    "from collections import defaultdict, Counter\n",
    "lookup = defaultdict(int)\n",
    "my_counter = Counter()"
   ]
  },
  {
   "cell_type": "code",
   "execution_count": 16,
   "metadata": {},
   "outputs": [
    {
     "name": "stdout",
     "output_type": "stream",
     "text": [
      "<function match at 0x0000021A3D6A8550>\n"
     ]
    }
   ],
   "source": [
    "match = 10\n",
    "from re import *\n",
    "print(match)"
   ]
  },
  {
   "cell_type": "code",
   "execution_count": 17,
   "metadata": {},
   "outputs": [],
   "source": [
    "from __future__ import division"
   ]
  },
  {
   "cell_type": "code",
   "execution_count": 18,
   "metadata": {},
   "outputs": [],
   "source": [
    "int_res = 5 // 2"
   ]
  },
  {
   "cell_type": "code",
   "execution_count": 19,
   "metadata": {},
   "outputs": [
    {
     "data": {
      "text/plain": [
       "2"
      ]
     },
     "execution_count": 19,
     "metadata": {},
     "output_type": "execute_result"
    }
   ],
   "source": [
    "int_res"
   ]
  },
  {
   "cell_type": "code",
   "execution_count": 20,
   "metadata": {},
   "outputs": [],
   "source": [
    "def double(x):\n",
    " \"\"\"Comentário de várias linhas\n",
    " para explicar o que a função faz.\n",
    " Por exemplo, esta função multiplica o valor de entrada por 2\"\"\"\n",
    " return x * 2\n"
   ]
  },
  {
   "cell_type": "code",
   "execution_count": 22,
   "metadata": {},
   "outputs": [
    {
     "name": "stdout",
     "output_type": "stream",
     "text": [
      "2\n"
     ]
    }
   ],
   "source": [
    "def apply_to_one(f):\n",
    " \"\"\"chama a função f passando 1 como argumento\"\"\"\n",
    " return f(1)\n",
    "my_double = double # refers to the previously defined function\n",
    "x = apply_to_one(my_double) # equals 2\n",
    "print(x)\n"
   ]
  },
  {
   "cell_type": "code",
   "execution_count": 23,
   "metadata": {},
   "outputs": [
    {
     "name": "stdout",
     "output_type": "stream",
     "text": [
      "5\n"
     ]
    }
   ],
   "source": [
    "y = apply_to_one(lambda x: x + 4) # equals 5\n",
    "print(y)"
   ]
  },
  {
   "cell_type": "code",
   "execution_count": 25,
   "metadata": {},
   "outputs": [],
   "source": [
    "def add(x, y):\n",
    "     return x + y"
   ]
  },
  {
   "cell_type": "code",
   "execution_count": 26,
   "metadata": {},
   "outputs": [
    {
     "data": {
      "text/plain": [
       "5"
      ]
     },
     "execution_count": 26,
     "metadata": {},
     "output_type": "execute_result"
    }
   ],
   "source": [
    "add(2, 3)"
   ]
  },
  {
   "cell_type": "code",
   "execution_count": 27,
   "metadata": {},
   "outputs": [],
   "source": [
    "add = lambda x, y: x + y"
   ]
  },
  {
   "cell_type": "code",
   "execution_count": 28,
   "metadata": {},
   "outputs": [
    {
     "data": {
      "text/plain": [
       "7"
      ]
     },
     "execution_count": 28,
     "metadata": {},
     "output_type": "execute_result"
    }
   ],
   "source": [
    "add(3, 4)"
   ]
  },
  {
   "cell_type": "code",
   "execution_count": 30,
   "metadata": {},
   "outputs": [],
   "source": [
    "import math"
   ]
  },
  {
   "cell_type": "code",
   "execution_count": 31,
   "metadata": {},
   "outputs": [
    {
     "data": {
      "text/plain": [
       "[5, 4, 3, 2, 1]"
      ]
     },
     "execution_count": 31,
     "metadata": {},
     "output_type": "execute_result"
    }
   ],
   "source": [
    "sorted([1, 2, 3, 4, 5], key=lambda x: x, reverse=True)"
   ]
  },
  {
   "cell_type": "code",
   "execution_count": 32,
   "metadata": {},
   "outputs": [
    {
     "data": {
      "text/plain": [
       "[5, 4, 3, 2, 1]"
      ]
     },
     "execution_count": 32,
     "metadata": {},
     "output_type": "execute_result"
    }
   ],
   "source": [
    "sorted([1, 2, 3, 4, 5], key=lambda x: math.log(x), reverse=True)"
   ]
  },
  {
   "cell_type": "code",
   "execution_count": 33,
   "metadata": {},
   "outputs": [
    {
     "data": {
      "text/plain": [
       "<map at 0x21a4349d760>"
      ]
     },
     "execution_count": 33,
     "metadata": {},
     "output_type": "execute_result"
    }
   ],
   "source": [
    "map(lambda x: x * x, [1,2,3,4,5])"
   ]
  },
  {
   "cell_type": "code",
   "execution_count": 35,
   "metadata": {},
   "outputs": [
    {
     "name": "stdout",
     "output_type": "stream",
     "text": [
      "hello\n",
      "my default message\n"
     ]
    }
   ],
   "source": [
    "def my_print(message=\"my default message\"):\n",
    "     print(message)\n",
    "\n",
    "my_print(\"hello\") \n",
    "my_print() "
   ]
  },
  {
   "cell_type": "code",
   "execution_count": 36,
   "metadata": {},
   "outputs": [
    {
     "data": {
      "text/plain": [
       "-5"
      ]
     },
     "execution_count": 36,
     "metadata": {},
     "output_type": "execute_result"
    }
   ],
   "source": [
    "def subtract(a=0, b=0):\n",
    "     return a - b\n",
    "subtract(10, 5) # returns 5\n",
    "subtract(0, 5) # returns -5\n",
    "subtract(b=5) # same as previous"
   ]
  },
  {
   "cell_type": "code",
   "execution_count": 37,
   "metadata": {},
   "outputs": [],
   "source": [
    "single_quoted_string = 'data science'\n",
    "double_quoted_string = \"data science\"\n"
   ]
  },
  {
   "cell_type": "code",
   "execution_count": 38,
   "metadata": {},
   "outputs": [
    {
     "data": {
      "text/plain": [
       "1"
      ]
     },
     "execution_count": 38,
     "metadata": {},
     "output_type": "execute_result"
    }
   ],
   "source": [
    "tab_string = \"\\t\"\n",
    "len(tab_string)"
   ]
  },
  {
   "cell_type": "code",
   "execution_count": 39,
   "metadata": {},
   "outputs": [
    {
     "name": "stdout",
     "output_type": "stream",
     "text": [
      "\\t\n"
     ]
    }
   ],
   "source": [
    "not_tab_string = r\"\\t\"\n",
    "len(not_tab_string)\n",
    "print(not_tab_string)"
   ]
  },
  {
   "cell_type": "code",
   "execution_count": 41,
   "metadata": {},
   "outputs": [],
   "source": [
    "multi_line_string = \"\"\"This is the first line.\n",
    "and this is the second line\n",
    "and this is the third line\"\"\""
   ]
  },
  {
   "cell_type": "code",
   "execution_count": 42,
   "metadata": {},
   "outputs": [
    {
     "name": "stdout",
     "output_type": "stream",
     "text": [
      "cannot divide by zero\n"
     ]
    }
   ],
   "source": [
    "try:\n",
    "     print(3 / 0)\n",
    "except ZeroDivisionError:\n",
    "     print(\"cannot divide by zero\")"
   ]
  },
  {
   "cell_type": "code",
   "execution_count": 43,
   "metadata": {},
   "outputs": [
    {
     "name": "stdout",
     "output_type": "stream",
     "text": [
      "3.0\n",
      "Executing the else clause.\n",
      "Cleaning up, irrespective of any exceptions.\n"
     ]
    }
   ],
   "source": [
    "try:\n",
    "    print(3 / 1)\n",
    "except Exception as err:\n",
    "    print(err)\n",
    "    print(\"cannot divide by zero\")\n",
    "else:\n",
    "    print('Executing the else clause.')\n",
    "finally:\n",
    "    print('Cleaning up, irrespective of any exceptions.')"
   ]
  },
  {
   "cell_type": "code",
   "execution_count": 54,
   "metadata": {},
   "outputs": [
    {
     "name": "stdout",
     "output_type": "stream",
     "text": [
      "3\n",
      "6\n"
     ]
    }
   ],
   "source": [
    "integer_list = [1, 2, 3]\n",
    "heterogeneous_list = [\"string\", 0.1, True]\n",
    "list_of_lists = [ integer_list, heterogeneous_list, [] ]\n",
    "list_length = len(integer_list) # equals 3\n",
    "print(list_length)\n",
    "list_sum = sum(integer_list) # equals 6\n",
    "print(list_sum)"
   ]
  },
  {
   "cell_type": "code",
   "execution_count": 55,
   "metadata": {},
   "outputs": [],
   "source": [
    "x = list(range(10)) \n",
    "zero = x[0] \n",
    "one = x[1] \n",
    "nine = x[-1] \n",
    "eight = x[-2]\n",
    "x[0] = -1"
   ]
  },
  {
   "cell_type": "code",
   "execution_count": 56,
   "metadata": {},
   "outputs": [],
   "source": [
    "first_three = x[:3]\n",
    "three_to_end = x[3:] \n",
    "one_to_four = x[1:5]\n",
    "last_three = x[-3:] \n",
    "without_first_and_last = x[1:-1]\n",
    "copy_of_x = x[:] "
   ]
  },
  {
   "cell_type": "code",
   "execution_count": 57,
   "metadata": {},
   "outputs": [
    {
     "data": {
      "text/plain": [
       "False"
      ]
     },
     "execution_count": 57,
     "metadata": {},
     "output_type": "execute_result"
    }
   ],
   "source": [
    "1 in [1, 2, 3] \n",
    "0 in [1, 2, 3]"
   ]
  },
  {
   "cell_type": "code",
   "execution_count": 58,
   "metadata": {},
   "outputs": [
    {
     "name": "stdout",
     "output_type": "stream",
     "text": [
      "[1, 2, 3]\n",
      "[1, 2, 3, 4, 5, 6]\n"
     ]
    }
   ],
   "source": [
    "x = [1, 2, 3]\n",
    "print(x)\n",
    "x.extend([4, 5, 6])\n",
    "print(x)"
   ]
  },
  {
   "cell_type": "code",
   "execution_count": 59,
   "metadata": {},
   "outputs": [],
   "source": [
    "x = [1, 2, 3]\n",
    "y = x + [4, 5, 6]"
   ]
  },
  {
   "cell_type": "code",
   "execution_count": 60,
   "metadata": {},
   "outputs": [],
   "source": [
    "x = [1, 2, 3]\n",
    "x.append(0) \n",
    "y = x[-1] \n",
    "z = len(x) "
   ]
  },
  {
   "cell_type": "code",
   "execution_count": 61,
   "metadata": {},
   "outputs": [
    {
     "name": "stdout",
     "output_type": "stream",
     "text": [
      "1 2\n"
     ]
    }
   ],
   "source": [
    "x, y = [1, 2] \n",
    "print(x, y)"
   ]
  },
  {
   "cell_type": "code",
   "execution_count": 62,
   "metadata": {},
   "outputs": [
    {
     "name": "stdout",
     "output_type": "stream",
     "text": [
      "2\n"
     ]
    }
   ],
   "source": [
    "_, y = [1, 2] \n",
    "print(y)"
   ]
  },
  {
   "cell_type": "code",
   "execution_count": 63,
   "metadata": {},
   "outputs": [
    {
     "name": "stdout",
     "output_type": "stream",
     "text": [
      "cannot modify a tuple\n"
     ]
    }
   ],
   "source": [
    "my_list = [1, 2]\n",
    "my_tuple = (1, 2)\n",
    "other_tuple = 3, 4\n",
    "my_list[1] = 3 # my_list is now [1, 3]\n",
    "try:\n",
    "    my_tuple[1] = 3\n",
    "except TypeError:\n",
    "    print(\"cannot modify a tuple\")"
   ]
  },
  {
   "cell_type": "code",
   "execution_count": 64,
   "metadata": {},
   "outputs": [
    {
     "name": "stdout",
     "output_type": "stream",
     "text": [
      "(5, 6)\n",
      "15 50\n"
     ]
    }
   ],
   "source": [
    "def sum_and_product(x, y):\n",
    "    return (x + y),(x * y)\n",
    "sp = sum_and_product(2, 3) # equals (5, 6)\n",
    "print(sp)\n",
    "s, p = sum_and_product(5, 10) # s is 15, p is 50\n",
    "print(s, p)"
   ]
  },
  {
   "cell_type": "code",
   "execution_count": 65,
   "metadata": {},
   "outputs": [
    {
     "name": "stdout",
     "output_type": "stream",
     "text": [
      "1 2\n",
      "2 1\n"
     ]
    }
   ],
   "source": [
    "x, y = 1, 2 # now x is 1, y is 2\n",
    "print(x, y)\n",
    "x, y = y, x # Pythonic way to swap variables; now x is 2, y is 1\n",
    "print(x, y)"
   ]
  },
  {
   "cell_type": "code",
   "execution_count": 66,
   "metadata": {},
   "outputs": [
    {
     "name": "stdout",
     "output_type": "stream",
     "text": [
      "{'Joel': 80, 'Tim': 95}\n"
     ]
    }
   ],
   "source": [
    "empty_dict = {} # Pythonic\n",
    "empty_dict2 = dict() # less Pythonic\n",
    "grades = { \"Joel\" : 80, \"Tim\" : 95 } # dictionary literal\n",
    "print(grades)"
   ]
  },
  {
   "cell_type": "code",
   "execution_count": 67,
   "metadata": {},
   "outputs": [
    {
     "name": "stdout",
     "output_type": "stream",
     "text": [
      "80\n",
      "no grade for Kate!\n"
     ]
    }
   ],
   "source": [
    "print(grades['Joel'])\n",
    "try:\n",
    "    kates_grade = grades[\"Kate\"]\n",
    "except KeyError:\n",
    "    print(\"no grade for Kate!\")\n"
   ]
  },
  {
   "cell_type": "code",
   "execution_count": 68,
   "metadata": {},
   "outputs": [
    {
     "name": "stdout",
     "output_type": "stream",
     "text": [
      "True\n",
      "False\n"
     ]
    }
   ],
   "source": [
    "joel_has_grade = \"Joel\" in grades # True\n",
    "print(joel_has_grade)\n",
    "kate_has_grade = \"Kate\" in grades # False\n",
    "print(kate_has_grade)"
   ]
  },
  {
   "cell_type": "code",
   "execution_count": 69,
   "metadata": {},
   "outputs": [
    {
     "name": "stdout",
     "output_type": "stream",
     "text": [
      "80\n",
      "0\n"
     ]
    }
   ],
   "source": [
    "joels_grade = grades.get(\"Joel\", 0) # equals 80\n",
    "print(joels_grade)\n",
    "kates_grade = grades.get(\"Kate\", 0) # equals 0\n",
    "print(kates_grade)\n"
   ]
  },
  {
   "cell_type": "code",
   "execution_count": 70,
   "metadata": {},
   "outputs": [
    {
     "name": "stdout",
     "output_type": "stream",
     "text": [
      "{'Joel': 80, 'Tim': 95}\n",
      "{'Joel': 80, 'Tim': 99}\n",
      "{'Joel': 80, 'Tim': 99, 'Kate': 100}\n",
      "3\n"
     ]
    }
   ],
   "source": [
    "print(grades)\n",
    "grades[\"Tim\"] = 99 # replaces the old value\n",
    "print(grades)\n",
    "grades[\"Kate\"] = 100 # adds a third entry\n",
    "print(grades)\n",
    "num_students = len(grades) # equals 3\n",
    "print(num_students)\n"
   ]
  },
  {
   "cell_type": "code",
   "execution_count": 73,
   "metadata": {},
   "outputs": [
    {
     "name": "stdout",
     "output_type": "stream",
     "text": [
      "4\n"
     ]
    }
   ],
   "source": [
    "tweet = {\n",
    "   \"user\" : \"joelgrus\",\n",
    "   \"text\" : \"Data Science is Awesome\",\n",
    "   \"retweet_count\" : 100,\n",
    "   \"hashtags\" : [\"#data\", \"#science\", \"#datascience\", \"#awesome\", \"#yolo\"]\n",
    "}\n",
    "print(len(tweet))\n"
   ]
  },
  {
   "cell_type": "code",
   "execution_count": 74,
   "metadata": {},
   "outputs": [
    {
     "name": "stdout",
     "output_type": "stream",
     "text": [
      "dict_keys(['user', 'text', 'retweet_count', 'hashtags'])\n",
      "dict_values(['joelgrus', 'Data Science is Awesome', 100, ['#data', '#science', '#datascience', '#awesome', '#yolo']])\n",
      "dict_items([('user', 'joelgrus'), ('text', 'Data Science is Awesome'), ('retweet_count', 100), ('hashtags', ['#data', '#science', '#datascience', '#awesome', '#yolo'])])\n",
      "user\n",
      "user\n",
      "joelgrus\n"
     ]
    },
    {
     "data": {
      "text/plain": [
       "False"
      ]
     },
     "execution_count": 74,
     "metadata": {},
     "output_type": "execute_result"
    }
   ],
   "source": [
    "tweet_keys = tweet.keys() # list of keys\n",
    "print(tweet_keys)\n",
    "tweet_values = tweet.values() # list of values\n",
    "print(tweet_values)\n",
    "tweet_items = tweet.items() # list of (key, value) tuples\n",
    "print(tweet_items)\n",
    "print(\"user\") in tweet_keys # True, but uses a slow list in\n",
    "print(\"user\") in tweet # more Pythonic, uses faster dict in\n",
    "print(\"joelgrus\") in tweet_values # True"
   ]
  },
  {
   "cell_type": "code",
   "execution_count": 76,
   "metadata": {},
   "outputs": [
    {
     "name": "stdout",
     "output_type": "stream",
     "text": [
      "{'This': 1, 'book': 1, 'uses': 1, 'the': 4, 'word': 1, 'in': 5, 'a': 2, 'more': 1, 'restricted': 1, 'sense:': 1, 'hacki\\nng': 1, 'is': 5, 'a\\n': 1, 'recreational': 1, 'and': 5, 'educational': 1, 'sport.': 1, 'It': 1, 'consists': 1, 'of': 4, 'attemp\\nting': 1, 'to': 4, 'make\\n': 1, 'unauthorised': 1, 'entry': 1, 'into': 2, 'computers': 1, 'explore': 1, 'what': 2, 'is\\n': 1, 'there.': 1, 'The\\n': 1, \"sport's\": 1, 'aims': 1, 'purposes': 1, 'have': 2, 'been': 2, 'widely': 1, 'misunderstood;\\nmost\\n': 1, 'hackers': 1, 'are': 1, 'not': 1, 'interested': 1, 'perpetrating': 1, 'massive': 1, 'fraud\\ns,': 1, 'modifying\\n': 1, 'their': 1, 'personal': 1, 'banking,': 1, 'taxation': 1, 'employee': 1, 'records,': 1, 'or\\ninducing\\n': 1, 'one': 1, 'world': 1, 'super-power': 2, 'inadvertently': 1, 'commencing': 1, 'Armag\\neddon': 1, 'the\\n': 2, 'mistaken': 1, 'belief': 1, 'that': 1, 'another': 1, 'about': 1, 'atta\\nck': 1, 'it.': 2, 'Every\\n': 1, 'hacker': 1, 'I': 1, 'ever': 1, 'come': 1, 'across': 1, 'has': 1, 'quite': 1, 'clear': 1, 'about\\nwhere': 1, 'fun': 1, 'lies:': 1, 'it': 1, 'developing': 1, 'an': 1, 'understanding': 1, 'syste\\nm': 1, 'and\\n': 1, 'finally': 1, 'producing': 1, 'skills': 1, 'tools': 1, 'defeat': 1, 'In': 1, 't\\nhe': 1, 'vast\\n': 1, 'majority': 1, 'cases,': 1, 'process': 1, \"'getting\": 1, \"in'\": 1, 'much': 1, 'mo\\nre\\n': 1, 'satisfying': 1, 'than': 1, 'discovered': 1, 'protected': 1, 'compu\\nter': 1, 'files.': 1}\n"
     ]
    }
   ],
   "source": [
    "document = \"\"\"This book uses the word in a more restricted sense: hacki\n",
    "ng is a\n",
    " recreational and educational sport. It consists of attemp\n",
    "ting to make\n",
    " unauthorised entry into computers and to explore what is\n",
    " there. The\n",
    " sport's aims and purposes have been widely misunderstood;\n",
    "most\n",
    " hackers are not interested in perpetrating massive fraud\n",
    "s, modifying\n",
    " their personal banking, taxation and employee records, or\n",
    "inducing\n",
    " one world super-power into inadvertently commencing Armag\n",
    "eddon in the\n",
    " mistaken belief that another super-power is about to atta\n",
    "ck it. Every\n",
    " hacker I have ever come across has been quite clear about\n",
    "where the\n",
    " fun lies: it is in developing an understanding of a syste\n",
    "m and\n",
    " finally producing the skills and tools to defeat it. In t\n",
    "he vast\n",
    " majority of cases, the process of 'getting in' is much mo\n",
    "re\n",
    " satisfying than what is discovered in the protected compu\n",
    "ter files.\"\"\"\n",
    "word_counts = {}\n",
    "for word in document.split(' '):\n",
    "    if word in word_counts:\n",
    "        word_counts[word] += 1\n",
    "    else:\n",
    "        word_counts[word] = 1\n",
    "print(word_counts)"
   ]
  },
  {
   "cell_type": "code",
   "execution_count": 77,
   "metadata": {},
   "outputs": [
    {
     "name": "stdout",
     "output_type": "stream",
     "text": [
      "{'This': 1, 'book': 1, 'uses': 1, 'the': 4, 'word': 1, 'in': 5, 'a': 2, 'more': 1, 'restricted': 1, 'sense:': 1, 'hacki\\nng': 1, 'is': 5, 'a\\n': 1, 'recreational': 1, 'and': 5, 'educational': 1, 'sport.': 1, 'It': 1, 'consists': 1, 'of': 4, 'attemp\\nting': 1, 'to': 4, 'make\\n': 1, 'unauthorised': 1, 'entry': 1, 'into': 2, 'computers': 1, 'explore': 1, 'what': 2, 'is\\n': 1, 'there.': 1, 'The\\n': 1, \"sport's\": 1, 'aims': 1, 'purposes': 1, 'have': 2, 'been': 2, 'widely': 1, 'misunderstood;\\nmost\\n': 1, 'hackers': 1, 'are': 1, 'not': 1, 'interested': 1, 'perpetrating': 1, 'massive': 1, 'fraud\\ns,': 1, 'modifying\\n': 1, 'their': 1, 'personal': 1, 'banking,': 1, 'taxation': 1, 'employee': 1, 'records,': 1, 'or\\ninducing\\n': 1, 'one': 1, 'world': 1, 'super-power': 2, 'inadvertently': 1, 'commencing': 1, 'Armag\\neddon': 1, 'the\\n': 2, 'mistaken': 1, 'belief': 1, 'that': 1, 'another': 1, 'about': 1, 'atta\\nck': 1, 'it.': 2, 'Every\\n': 1, 'hacker': 1, 'I': 1, 'ever': 1, 'come': 1, 'across': 1, 'has': 1, 'quite': 1, 'clear': 1, 'about\\nwhere': 1, 'fun': 1, 'lies:': 1, 'it': 1, 'developing': 1, 'an': 1, 'understanding': 1, 'syste\\nm': 1, 'and\\n': 1, 'finally': 1, 'producing': 1, 'skills': 1, 'tools': 1, 'defeat': 1, 'In': 1, 't\\nhe': 1, 'vast\\n': 1, 'majority': 1, 'cases,': 1, 'process': 1, \"'getting\": 1, \"in'\": 1, 'much': 1, 'mo\\nre\\n': 1, 'satisfying': 1, 'than': 1, 'discovered': 1, 'protected': 1, 'compu\\nter': 1, 'files.': 1}\n"
     ]
    }
   ],
   "source": [
    "word_counts = {}\n",
    "for word in document.split(' '):\n",
    "    try:\n",
    "        word_counts[word] += 1\n",
    "    except KeyError:\n",
    "        word_counts[word] = 1\n",
    "print(word_counts)"
   ]
  },
  {
   "cell_type": "code",
   "execution_count": 78,
   "metadata": {},
   "outputs": [
    {
     "name": "stdout",
     "output_type": "stream",
     "text": [
      "{'This': 1, 'book': 1, 'uses': 1, 'the': 4, 'word': 1, 'in': 5, 'a': 2, 'more': 1, 'restricted': 1, 'sense:': 1, 'hacki\\nng': 1, 'is': 5, 'a\\n': 1, 'recreational': 1, 'and': 5, 'educational': 1, 'sport.': 1, 'It': 1, 'consists': 1, 'of': 4, 'attemp\\nting': 1, 'to': 4, 'make\\n': 1, 'unauthorised': 1, 'entry': 1, 'into': 2, 'computers': 1, 'explore': 1, 'what': 2, 'is\\n': 1, 'there.': 1, 'The\\n': 1, \"sport's\": 1, 'aims': 1, 'purposes': 1, 'have': 2, 'been': 2, 'widely': 1, 'misunderstood;\\nmost\\n': 1, 'hackers': 1, 'are': 1, 'not': 1, 'interested': 1, 'perpetrating': 1, 'massive': 1, 'fraud\\ns,': 1, 'modifying\\n': 1, 'their': 1, 'personal': 1, 'banking,': 1, 'taxation': 1, 'employee': 1, 'records,': 1, 'or\\ninducing\\n': 1, 'one': 1, 'world': 1, 'super-power': 2, 'inadvertently': 1, 'commencing': 1, 'Armag\\neddon': 1, 'the\\n': 2, 'mistaken': 1, 'belief': 1, 'that': 1, 'another': 1, 'about': 1, 'atta\\nck': 1, 'it.': 2, 'Every\\n': 1, 'hacker': 1, 'I': 1, 'ever': 1, 'come': 1, 'across': 1, 'has': 1, 'quite': 1, 'clear': 1, 'about\\nwhere': 1, 'fun': 1, 'lies:': 1, 'it': 1, 'developing': 1, 'an': 1, 'understanding': 1, 'syste\\nm': 1, 'and\\n': 1, 'finally': 1, 'producing': 1, 'skills': 1, 'tools': 1, 'defeat': 1, 'In': 1, 't\\nhe': 1, 'vast\\n': 1, 'majority': 1, 'cases,': 1, 'process': 1, \"'getting\": 1, \"in'\": 1, 'much': 1, 'mo\\nre\\n': 1, 'satisfying': 1, 'than': 1, 'discovered': 1, 'protected': 1, 'compu\\nter': 1, 'files.': 1}\n"
     ]
    }
   ],
   "source": [
    "word_counts = {}\n",
    "for word in document.split(' '):\n",
    "    previous_count = word_counts.get(word, 0)\n",
    "    word_counts[word] = previous_count + 1\n",
    "print(word_counts)"
   ]
  },
  {
   "cell_type": "code",
   "execution_count": 79,
   "metadata": {},
   "outputs": [
    {
     "name": "stdout",
     "output_type": "stream",
     "text": [
      "defaultdict(<class 'int'>, {'This': 1, 'book': 1, 'uses': 1, 'the': 4, 'word': 1, 'in': 5, 'a': 2, 'more': 1, 'restricted': 1, 'sense:': 1, 'hacki\\nng': 1, 'is': 5, 'a\\n': 1, 'recreational': 1, 'and': 5, 'educational': 1, 'sport.': 1, 'It': 1, 'consists': 1, 'of': 4, 'attemp\\nting': 1, 'to': 4, 'make\\n': 1, 'unauthorised': 1, 'entry': 1, 'into': 2, 'computers': 1, 'explore': 1, 'what': 2, 'is\\n': 1, 'there.': 1, 'The\\n': 1, \"sport's\": 1, 'aims': 1, 'purposes': 1, 'have': 2, 'been': 2, 'widely': 1, 'misunderstood;\\nmost\\n': 1, 'hackers': 1, 'are': 1, 'not': 1, 'interested': 1, 'perpetrating': 1, 'massive': 1, 'fraud\\ns,': 1, 'modifying\\n': 1, 'their': 1, 'personal': 1, 'banking,': 1, 'taxation': 1, 'employee': 1, 'records,': 1, 'or\\ninducing\\n': 1, 'one': 1, 'world': 1, 'super-power': 2, 'inadvertently': 1, 'commencing': 1, 'Armag\\neddon': 1, 'the\\n': 2, 'mistaken': 1, 'belief': 1, 'that': 1, 'another': 1, 'about': 1, 'atta\\nck': 1, 'it.': 2, 'Every\\n': 1, 'hacker': 1, 'I': 1, 'ever': 1, 'come': 1, 'across': 1, 'has': 1, 'quite': 1, 'clear': 1, 'about\\nwhere': 1, 'fun': 1, 'lies:': 1, 'it': 1, 'developing': 1, 'an': 1, 'understanding': 1, 'syste\\nm': 1, 'and\\n': 1, 'finally': 1, 'producing': 1, 'skills': 1, 'tools': 1, 'defeat': 1, 'In': 1, 't\\nhe': 1, 'vast\\n': 1, 'majority': 1, 'cases,': 1, 'process': 1, \"'getting\": 1, \"in'\": 1, 'much': 1, 'mo\\nre\\n': 1, 'satisfying': 1, 'than': 1, 'discovered': 1, 'protected': 1, 'compu\\nter': 1, 'files.': 1})\n"
     ]
    }
   ],
   "source": [
    "from collections import defaultdict\n",
    "word_counts = defaultdict(int) # int() produces 0\n",
    "for word in document.split(' '):\n",
    "    word_counts[word] += 1\n",
    "print(word_counts)"
   ]
  },
  {
   "cell_type": "code",
   "execution_count": 80,
   "metadata": {},
   "outputs": [
    {
     "name": "stdout",
     "output_type": "stream",
     "text": [
      "defaultdict(<class 'list'>, {})\n",
      "defaultdict(<class 'list'>, {2: [1]})\n",
      "defaultdict(<class 'dict'>, {})\n",
      "defaultdict(<class 'dict'>, {'Joel': {'City': 'Seattle'}})\n",
      "defaultdict(<function <lambda> at 0x0000021A44BE5310>, {})\n",
      "defaultdict(<function <lambda> at 0x0000021A44BE5310>, {2: [0, 1]})\n"
     ]
    }
   ],
   "source": [
    "dd_list = defaultdict(list) # list() produces an empty list\n",
    "print(dd_list)\n",
    "dd_list[2].append(1) # now dd_list contains {2: [1]}\n",
    "print(dd_list)\n",
    "dd_dict = defaultdict(dict) # dict() produces an empty dict\n",
    "print(dd_dict)\n",
    "dd_dict[\"Joel\"][\"City\"] = \"Seattle\" # { \"Joel\" : { \"City\" : Seattle\"}}\n",
    "print(dd_dict)\n",
    "dd_pair = defaultdict(lambda: [0, 0])\n",
    "print(dd_pair)\n",
    "dd_pair[2][1] = 1 # now dd_pair contains {2: [0,1]}\n",
    "print(dd_pair)"
   ]
  },
  {
   "cell_type": "code",
   "execution_count": 81,
   "metadata": {},
   "outputs": [
    {
     "name": "stdout",
     "output_type": "stream",
     "text": [
      "Counter({0: 2, 1: 1, 2: 1})\n"
     ]
    }
   ],
   "source": [
    "from collections import Counter\n",
    "c = Counter([0, 1, 2, 0]) # c is (basically) { 0 : 2, 1 : 1, 2 : 1 }\n",
    "print(c)\n"
   ]
  },
  {
   "cell_type": "code",
   "execution_count": 82,
   "metadata": {},
   "outputs": [
    {
     "name": "stdout",
     "output_type": "stream",
     "text": [
      "Counter({'in': 5, 'is': 5, 'and': 5, 'the': 4, 'of': 4, 'to': 4, 'a': 2, 'into': 2, 'what': 2, 'have': 2, 'been': 2, 'super-power': 2, 'the\\n': 2, 'it.': 2, 'This': 1, 'book': 1, 'uses': 1, 'word': 1, 'more': 1, 'restricted': 1, 'sense:': 1, 'hacki\\nng': 1, 'a\\n': 1, 'recreational': 1, 'educational': 1, 'sport.': 1, 'It': 1, 'consists': 1, 'attemp\\nting': 1, 'make\\n': 1, 'unauthorised': 1, 'entry': 1, 'computers': 1, 'explore': 1, 'is\\n': 1, 'there.': 1, 'The\\n': 1, \"sport's\": 1, 'aims': 1, 'purposes': 1, 'widely': 1, 'misunderstood;\\nmost\\n': 1, 'hackers': 1, 'are': 1, 'not': 1, 'interested': 1, 'perpetrating': 1, 'massive': 1, 'fraud\\ns,': 1, 'modifying\\n': 1, 'their': 1, 'personal': 1, 'banking,': 1, 'taxation': 1, 'employee': 1, 'records,': 1, 'or\\ninducing\\n': 1, 'one': 1, 'world': 1, 'inadvertently': 1, 'commencing': 1, 'Armag\\neddon': 1, 'mistaken': 1, 'belief': 1, 'that': 1, 'another': 1, 'about': 1, 'atta\\nck': 1, 'Every\\n': 1, 'hacker': 1, 'I': 1, 'ever': 1, 'come': 1, 'across': 1, 'has': 1, 'quite': 1, 'clear': 1, 'about\\nwhere': 1, 'fun': 1, 'lies:': 1, 'it': 1, 'developing': 1, 'an': 1, 'understanding': 1, 'syste\\nm': 1, 'and\\n': 1, 'finally': 1, 'producing': 1, 'skills': 1, 'tools': 1, 'defeat': 1, 'In': 1, 't\\nhe': 1, 'vast\\n': 1, 'majority': 1, 'cases,': 1, 'process': 1, \"'getting\": 1, \"in'\": 1, 'much': 1, 'mo\\nre\\n': 1, 'satisfying': 1, 'than': 1, 'discovered': 1, 'protected': 1, 'compu\\nter': 1, 'files.': 1})\n"
     ]
    }
   ],
   "source": [
    "word_counts = Counter(document.split(\" \"))\n",
    "print(word_counts)"
   ]
  },
  {
   "cell_type": "code",
   "execution_count": 83,
   "metadata": {},
   "outputs": [
    {
     "name": "stdout",
     "output_type": "stream",
     "text": [
      "in 5\n",
      "is 5\n",
      "and 5\n",
      "the 4\n",
      "of 4\n",
      "to 4\n",
      "a 2\n",
      "into 2\n",
      "what 2\n",
      "have 2\n",
      "been 2\n",
      "super-power 2\n",
      "the\n",
      " 2\n",
      "it. 2\n",
      "This 1\n",
      "book 1\n",
      "uses 1\n",
      "word 1\n",
      "more 1\n",
      "restricted 1\n",
      "sense: 1\n",
      "hacki\n",
      "ng 1\n",
      "a\n",
      " 1\n",
      "recreational 1\n",
      "educational 1\n",
      "sport. 1\n",
      "It 1\n",
      "consists 1\n",
      "attemp\n",
      "ting 1\n",
      "make\n",
      " 1\n"
     ]
    }
   ],
   "source": [
    "for word, count in word_counts.most_common(30):\n",
    "    print(word, count)"
   ]
  },
  {
   "cell_type": "code",
   "execution_count": 84,
   "metadata": {},
   "outputs": [
    {
     "name": "stdout",
     "output_type": "stream",
     "text": [
      "set()\n",
      "{1, 2}\n",
      "2\n",
      "True\n",
      "False\n"
     ]
    }
   ],
   "source": [
    "s = set()\n",
    "print(s)\n",
    "s.add(1) # s is now { 1 }\n",
    "s.add(2) # s is now { 1, 2 }\n",
    "s.add(2) # s is still { 1, 2 }\n",
    "print(s)\n",
    "x = len(s) # equals 2\n",
    "print(x)\n",
    "y = 2 in s # equals True\n",
    "print(y)\n",
    "z = 3 in s # equals False\n",
    "print(z)\n"
   ]
  },
  {
   "cell_type": "code",
   "execution_count": 92,
   "metadata": {},
   "outputs": [
    {
     "data": {
      "text/plain": [
       "True"
      ]
     },
     "execution_count": 92,
     "metadata": {},
     "output_type": "execute_result"
    }
   ],
   "source": [
    "hundreds_of_other_words = [\"zip\", \"at\"]\n",
    "stopwords_list = [\"a\",\"an\",\"at\"] + hundreds_of_other_words + [\"yet\", \"you\"]\n",
    "\"zip\" in stopwords_list # False, but have to check every element\n",
    "\n",
    "stopwords_set = set(stopwords_list)\n",
    "\"zip\" in stopwords_set # very fast to check"
   ]
  },
  {
   "cell_type": "code",
   "execution_count": 93,
   "metadata": {},
   "outputs": [
    {
     "name": "stdout",
     "output_type": "stream",
     "text": [
      "6\n",
      "3\n"
     ]
    }
   ],
   "source": [
    "item_list = [1, 2, 3, 1, 2, 3]\n",
    "num_items = len(item_list) # 6\n",
    "print(num_items)\n",
    "item_set = set(item_list) # {1, 2, 3}\n",
    "num_distinct_items = len(item_set) # 3\n",
    "print(num_distinct_items)\n",
    "distinct_item_list = list(item_set) # [1, 2, 3]"
   ]
  },
  {
   "cell_type": "code",
   "execution_count": 94,
   "metadata": {},
   "outputs": [],
   "source": [
    "if 1 > 2:\n",
    "    message = \"if only 1 were greater than two…\"\n",
    "elif 1 > 3:\n",
    "    message = \"elif stands for 'else if'\"\n",
    "else:\n",
    "    message = \"when all else fails use else (if you want to)\""
   ]
  },
  {
   "cell_type": "code",
   "execution_count": 95,
   "metadata": {},
   "outputs": [
    {
     "name": "stdout",
     "output_type": "stream",
     "text": [
      "odd\n"
     ]
    }
   ],
   "source": [
    "x = 5\n",
    "parity = \"even\" if x % 2 == 0 else \"odd\"\n",
    "print(parity)"
   ]
  },
  {
   "cell_type": "code",
   "execution_count": 96,
   "metadata": {},
   "outputs": [
    {
     "name": "stdout",
     "output_type": "stream",
     "text": [
      "0 is less than 10\n",
      "1 is less than 10\n",
      "2 is less than 10\n",
      "3 is less than 10\n",
      "4 is less than 10\n",
      "5 is less than 10\n",
      "6 is less than 10\n",
      "7 is less than 10\n",
      "8 is less than 10\n",
      "9 is less than 10\n"
     ]
    }
   ],
   "source": [
    " x = 0\n",
    "while x < 10:\n",
    "    print(x, \"is less than 10\")\n",
    "    x += 1"
   ]
  },
  {
   "cell_type": "code",
   "execution_count": 97,
   "metadata": {},
   "outputs": [
    {
     "name": "stdout",
     "output_type": "stream",
     "text": [
      "0 is less than 10\n",
      "1 is less than 10\n",
      "2 is less than 10\n",
      "3 is less than 10\n",
      "4 is less than 10\n",
      "5 is less than 10\n",
      "6 is less than 10\n",
      "7 is less than 10\n",
      "8 is less than 10\n",
      "9 is less than 10\n"
     ]
    }
   ],
   "source": [
    "for x in range(10):\n",
    "    print(x, \"is less than 10\")"
   ]
  },
  {
   "cell_type": "code",
   "execution_count": 99,
   "metadata": {},
   "outputs": [
    {
     "name": "stdout",
     "output_type": "stream",
     "text": [
      "0\n",
      "1\n",
      "2\n",
      "4\n"
     ]
    }
   ],
   "source": [
    "for x in range(10):\n",
    "    if x == 3:\n",
    "        continue # go immediately to the next iteration\n",
    "    if x == 5:\n",
    "        break # quit the loop entirely\n",
    "    print(x)"
   ]
  },
  {
   "cell_type": "code",
   "execution_count": 100,
   "metadata": {},
   "outputs": [
    {
     "name": "stdout",
     "output_type": "stream",
     "text": [
      "True\n",
      "False\n"
     ]
    }
   ],
   "source": [
    "one_is_less_than_two = 1 < 2 # equals True\n",
    "print(one_is_less_than_two)\n",
    "true_equals_false = True == False # equals False\n",
    "print(true_equals_false)"
   ]
  },
  {
   "cell_type": "code",
   "execution_count": 101,
   "metadata": {},
   "outputs": [],
   "source": [
    " x = None\n"
   ]
  },
  {
   "cell_type": "code",
   "execution_count": 102,
   "metadata": {},
   "outputs": [
    {
     "name": "stdout",
     "output_type": "stream",
     "text": [
      "None\n"
     ]
    },
    {
     "data": {
      "text/plain": [
       "True"
      ]
     },
     "execution_count": 102,
     "metadata": {},
     "output_type": "execute_result"
    }
   ],
   "source": [
    "print(x) == None "
   ]
  },
  {
   "cell_type": "code",
   "execution_count": 103,
   "metadata": {},
   "outputs": [
    {
     "name": "stdout",
     "output_type": "stream",
     "text": [
      "None\n"
     ]
    },
    {
     "data": {
      "text/plain": [
       "True"
      ]
     },
     "execution_count": 103,
     "metadata": {},
     "output_type": "execute_result"
    }
   ],
   "source": [
    " print(x) is None"
   ]
  },
  {
   "cell_type": "code",
   "execution_count": 104,
   "metadata": {},
   "outputs": [
    {
     "name": "stdout",
     "output_type": "stream",
     "text": [
      "None\n"
     ]
    },
    {
     "data": {
      "text/plain": [
       "True"
      ]
     },
     "execution_count": 104,
     "metadata": {},
     "output_type": "execute_result"
    }
   ],
   "source": [
    "print(x) == None"
   ]
  },
  {
   "cell_type": "code",
   "execution_count": 1,
   "metadata": {},
   "outputs": [
    {
     "name": "stdout",
     "output_type": "stream",
     "text": [
      "[4, 1, 2, 3]\n"
     ]
    }
   ],
   "source": [
    "x = [4,1,2,3]\n",
    "print(x)\n"
   ]
  },
  {
   "cell_type": "code",
   "execution_count": 106,
   "metadata": {},
   "outputs": [
    {
     "name": "stdout",
     "output_type": "stream",
     "text": [
      "[1, 2, 3, 4]\n"
     ]
    }
   ],
   "source": [
    "y = sorted(x) # is [1,2,3,4], x is unchanged\n",
    "print(y)"
   ]
  },
  {
   "cell_type": "code",
   "execution_count": 107,
   "metadata": {},
   "outputs": [
    {
     "name": "stdout",
     "output_type": "stream",
     "text": [
      "[1, 2, 3, 4]\n"
     ]
    }
   ],
   "source": [
    "x.sort() # now x is [1,2,3,4]\n",
    "print(x)"
   ]
  },
  {
   "cell_type": "code",
   "execution_count": 108,
   "metadata": {},
   "outputs": [
    {
     "name": "stdout",
     "output_type": "stream",
     "text": [
      "[3, 1, -2, -4]\n"
     ]
    }
   ],
   "source": [
    "x = sorted([-4,1,-2,3], reverse=True)\n",
    "print(x)"
   ]
  },
  {
   "cell_type": "code",
   "execution_count": 109,
   "metadata": {},
   "outputs": [
    {
     "name": "stdout",
     "output_type": "stream",
     "text": [
      "[-4, 3, -2, 1]\n"
     ]
    }
   ],
   "source": [
    "x = sorted([-4,1,-2,3], key=abs, reverse=True) # is [-4,3,-2,1]\n",
    "print(x)"
   ]
  },
  {
   "cell_type": "code",
   "execution_count": 110,
   "metadata": {},
   "outputs": [
    {
     "data": {
      "text/plain": [
       "dict_items([('This', 1), ('book', 1), ('uses', 1), ('the', 4), ('word', 1), ('in', 5), ('a', 2), ('more', 1), ('restricted', 1), ('sense:', 1), ('hacki\\nng', 1), ('is', 5), ('a\\n', 1), ('recreational', 1), ('and', 5), ('educational', 1), ('sport.', 1), ('It', 1), ('consists', 1), ('of', 4), ('attemp\\nting', 1), ('to', 4), ('make\\n', 1), ('unauthorised', 1), ('entry', 1), ('into', 2), ('computers', 1), ('explore', 1), ('what', 2), ('is\\n', 1), ('there.', 1), ('The\\n', 1), (\"sport's\", 1), ('aims', 1), ('purposes', 1), ('have', 2), ('been', 2), ('widely', 1), ('misunderstood;\\nmost\\n', 1), ('hackers', 1), ('are', 1), ('not', 1), ('interested', 1), ('perpetrating', 1), ('massive', 1), ('fraud\\ns,', 1), ('modifying\\n', 1), ('their', 1), ('personal', 1), ('banking,', 1), ('taxation', 1), ('employee', 1), ('records,', 1), ('or\\ninducing\\n', 1), ('one', 1), ('world', 1), ('super-power', 2), ('inadvertently', 1), ('commencing', 1), ('Armag\\neddon', 1), ('the\\n', 2), ('mistaken', 1), ('belief', 1), ('that', 1), ('another', 1), ('about', 1), ('atta\\nck', 1), ('it.', 2), ('Every\\n', 1), ('hacker', 1), ('I', 1), ('ever', 1), ('come', 1), ('across', 1), ('has', 1), ('quite', 1), ('clear', 1), ('about\\nwhere', 1), ('fun', 1), ('lies:', 1), ('it', 1), ('developing', 1), ('an', 1), ('understanding', 1), ('syste\\nm', 1), ('and\\n', 1), ('finally', 1), ('producing', 1), ('skills', 1), ('tools', 1), ('defeat', 1), ('In', 1), ('t\\nhe', 1), ('vast\\n', 1), ('majority', 1), ('cases,', 1), ('process', 1), (\"'getting\", 1), (\"in'\", 1), ('much', 1), ('mo\\nre\\n', 1), ('satisfying', 1), ('than', 1), ('discovered', 1), ('protected', 1), ('compu\\nter', 1), ('files.', 1)])"
      ]
     },
     "execution_count": 110,
     "metadata": {},
     "output_type": "execute_result"
    }
   ],
   "source": [
    "word_counts.items()"
   ]
  },
  {
   "cell_type": "code",
   "execution_count": 111,
   "metadata": {},
   "outputs": [
    {
     "name": "stdout",
     "output_type": "stream",
     "text": [
      "[('in', 5), ('is', 5), ('and', 5), ('the', 4), ('of', 4), ('to', 4), ('a', 2), ('into', 2), ('what', 2), ('have', 2), ('been', 2), ('super-power', 2), ('the\\n', 2), ('it.', 2), ('This', 1), ('book', 1), ('uses', 1), ('word', 1), ('more', 1), ('restricted', 1), ('sense:', 1), ('hacki\\nng', 1), ('a\\n', 1), ('recreational', 1), ('educational', 1), ('sport.', 1), ('It', 1), ('consists', 1), ('attemp\\nting', 1), ('make\\n', 1), ('unauthorised', 1), ('entry', 1), ('computers', 1), ('explore', 1), ('is\\n', 1), ('there.', 1), ('The\\n', 1), (\"sport's\", 1), ('aims', 1), ('purposes', 1), ('widely', 1), ('misunderstood;\\nmost\\n', 1), ('hackers', 1), ('are', 1), ('not', 1), ('interested', 1), ('perpetrating', 1), ('massive', 1), ('fraud\\ns,', 1), ('modifying\\n', 1), ('their', 1), ('personal', 1), ('banking,', 1), ('taxation', 1), ('employee', 1), ('records,', 1), ('or\\ninducing\\n', 1), ('one', 1), ('world', 1), ('inadvertently', 1), ('commencing', 1), ('Armag\\neddon', 1), ('mistaken', 1), ('belief', 1), ('that', 1), ('another', 1), ('about', 1), ('atta\\nck', 1), ('Every\\n', 1), ('hacker', 1), ('I', 1), ('ever', 1), ('come', 1), ('across', 1), ('has', 1), ('quite', 1), ('clear', 1), ('about\\nwhere', 1), ('fun', 1), ('lies:', 1), ('it', 1), ('developing', 1), ('an', 1), ('understanding', 1), ('syste\\nm', 1), ('and\\n', 1), ('finally', 1), ('producing', 1), ('skills', 1), ('tools', 1), ('defeat', 1), ('In', 1), ('t\\nhe', 1), ('vast\\n', 1), ('majority', 1), ('cases,', 1), ('process', 1), (\"'getting\", 1), (\"in'\", 1), ('much', 1), ('mo\\nre\\n', 1), ('satisfying', 1), ('than', 1), ('discovered', 1), ('protected', 1), ('compu\\nter', 1), ('files.', 1)]\n"
     ]
    }
   ],
   "source": [
    "wc = sorted(word_counts.items(), key=lambda item: item[1], reverse=True\n",
    ")\n",
    "print(wc)"
   ]
  },
  {
   "cell_type": "code",
   "execution_count": 112,
   "metadata": {},
   "outputs": [
    {
     "name": "stdout",
     "output_type": "stream",
     "text": [
      "[0, 2, 4]\n"
     ]
    }
   ],
   "source": [
    "even_numbers = [x for x in range(5) if x % 2 == 0] # [0, 2, 4]\n",
    "print(even_numbers)"
   ]
  },
  {
   "cell_type": "code",
   "execution_count": 113,
   "metadata": {},
   "outputs": [
    {
     "name": "stdout",
     "output_type": "stream",
     "text": [
      "[0, 1, 4, 9, 16]\n"
     ]
    }
   ],
   "source": [
    "squares = [x * x for x in range(5)] # [0, 1, 4, 9, 16]\n",
    "print(squares)"
   ]
  },
  {
   "cell_type": "code",
   "execution_count": 114,
   "metadata": {},
   "outputs": [
    {
     "name": "stdout",
     "output_type": "stream",
     "text": [
      "[0, 4, 16]\n"
     ]
    }
   ],
   "source": [
    "even_squares = [x * x for x in even_numbers] # [0, 4, 16]\n",
    "print(even_squares)\n"
   ]
  },
  {
   "cell_type": "code",
   "execution_count": 117,
   "metadata": {},
   "outputs": [
    {
     "name": "stdout",
     "output_type": "stream",
     "text": [
      "{0: 0, 1: 1, 2: 4, 3: 9, 4: 16}\n"
     ]
    }
   ],
   "source": [
    "square_dict = { x : x * x for x in range(5) }\n",
    "print(square_dict)"
   ]
  },
  {
   "cell_type": "code",
   "execution_count": 118,
   "metadata": {},
   "outputs": [
    {
     "name": "stdout",
     "output_type": "stream",
     "text": [
      "{1}\n"
     ]
    }
   ],
   "source": [
    "square_set = { x * x for x in [1, -1] } # { 1 }\n",
    "print(square_set)"
   ]
  },
  {
   "cell_type": "code",
   "execution_count": 119,
   "metadata": {},
   "outputs": [
    {
     "name": "stdout",
     "output_type": "stream",
     "text": [
      "[0, 0, 0]\n"
     ]
    }
   ],
   "source": [
    "zeroes = [0 for _ in even_numbers] # has the same length as even_numbers\n",
    "print(zeroes)"
   ]
  },
  {
   "cell_type": "code",
   "execution_count": 120,
   "metadata": {},
   "outputs": [
    {
     "name": "stdout",
     "output_type": "stream",
     "text": [
      "[(0, 0), (0, 1), (0, 2), (0, 3), (0, 4), (0, 5), (0, 6), (0, 7), (0, 8), (0, 9), (1, 0), (1, 1), (1, 2), (1, 3), (1, 4), (1, 5), (1, 6), (1, 7), (1, 8), (1, 9), (2, 0), (2, 1), (2, 2), (2, 3), (2, 4), (2, 5), (2, 6), (2, 7), (2, 8), (2, 9), (3, 0), (3, 1), (3, 2), (3, 3), (3, 4), (3, 5), (3, 6), (3, 7), (3, 8), (3, 9), (4, 0), (4, 1), (4, 2), (4, 3), (4, 4), (4, 5), (4, 6), (4, 7), (4, 8), (4, 9), (5, 0), (5, 1), (5, 2), (5, 3), (5, 4), (5, 5), (5, 6), (5, 7), (5, 8), (5, 9), (6, 0), (6, 1), (6, 2), (6, 3), (6, 4), (6, 5), (6, 6), (6, 7), (6, 8), (6, 9), (7, 0), (7, 1), (7, 2), (7, 3), (7, 4), (7, 5), (7, 6), (7, 7), (7, 8), (7, 9), (8, 0), (8, 1), (8, 2), (8, 3), (8, 4), (8, 5), (8, 6), (8, 7), (8, 8), (8, 9), (9, 0), (9, 1), (9, 2), (9, 3), (9, 4), (9, 5), (9, 6), (9, 7), (9, 8), (9, 9)]\n"
     ]
    }
   ],
   "source": [
    "pairs = [(x, y)\n",
    " for x in range(10)\n",
    " for y in range(10)] # 100 pairs (0,0) (0,1) ... (9,8), (9,9)\n",
    "print(pairs)\n"
   ]
  },
  {
   "cell_type": "code",
   "execution_count": null,
   "metadata": {},
   "outputs": [],
   "source": []
  }
 ],
 "metadata": {
  "kernelspec": {
   "display_name": "Python 3",
   "language": "python",
   "name": "python3"
  },
  "language_info": {
   "codemirror_mode": {
    "name": "ipython",
    "version": 3
   },
   "file_extension": ".py",
   "mimetype": "text/x-python",
   "name": "python",
   "nbconvert_exporter": "python",
   "pygments_lexer": "ipython3",
   "version": "3.8.5"
  }
 },
 "nbformat": 4,
 "nbformat_minor": 4
}
