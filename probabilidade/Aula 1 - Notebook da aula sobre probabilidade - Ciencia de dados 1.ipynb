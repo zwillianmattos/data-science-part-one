{
 "cells": [
  {
   "cell_type": "code",
   "execution_count": 6,
   "metadata": {},
   "outputs": [
    {
     "name": "stdout",
     "output_type": "stream",
     "text": [
      "P(a|b):  0.5\n"
     ]
    }
   ],
   "source": [
    "## EXERCICIO 1\n",
    "import random\n",
    "import matplotlib.pyplot as plt\n",
    "import math\n",
    "\n",
    "def random_coin():\n",
    "    return random.choice(['cara','coroa'])\n",
    "\n",
    "ambas_c = 0\n",
    "primeira_c = 0\n",
    "\n",
    "random.seed(0)\n",
    "\n",
    "for i in range(10000):\n",
    "    primeira = random_coin()\n",
    "    segunda = random_coin()\n",
    "    if primeira == 'cara':\n",
    "        primeira_c += 1\n",
    "    if primeira == 'cara' and segunda == 'cara':\n",
    "        ambas_c += 1\n",
    "print(\"P(a|b): \", round(ambas_c / primeira_c, 1))"
   ]
  },
  {
   "cell_type": "code",
   "execution_count": 10,
   "metadata": {},
   "outputs": [
    {
     "name": "stdout",
     "output_type": "stream",
     "text": [
      "P (A|B) = P(A∩B)/P(B)\n",
      "P(a|b):  0.2222222222222222\n"
     ]
    }
   ],
   "source": [
    "## EXERCICIO 2\n",
    "\n",
    "#P (A|B) = P(A∩B)/P(B)\n",
    "#P (A|B) = (2/36)/(9/36)\n",
    "#P (A|B) = (2/36).(36/9)\n",
    "#P (A|B) = (2/36).(36/9)\n",
    "#P (A|B) = 2/9\n",
    "\n",
    "print(\"P (A|B) = P(A∩B)/P(B)\")\n",
    "print(\"P(a|b): \", (2/36) * (36/9))"
   ]
  },
  {
   "cell_type": "code",
   "execution_count": null,
   "metadata": {},
   "outputs": [],
   "source": []
  }
 ],
 "metadata": {
  "kernelspec": {
   "display_name": "Python 3",
   "language": "python",
   "name": "python3"
  },
  "language_info": {
   "codemirror_mode": {
    "name": "ipython",
    "version": 3
   },
   "file_extension": ".py",
   "mimetype": "text/x-python",
   "name": "python",
   "nbconvert_exporter": "python",
   "pygments_lexer": "ipython3",
   "version": "3.8.5"
  }
 },
 "nbformat": 4,
 "nbformat_minor": 4
}
