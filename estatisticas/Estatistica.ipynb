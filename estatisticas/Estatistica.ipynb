{
 "cells": [
  {
   "cell_type": "code",
   "execution_count": 1,
   "metadata": {},
   "outputs": [],
   "source": [
    "from collections import Counter\n",
    "import matplotlib.pyplot as plt\n",
    "import random\n",
    "import math"
   ]
  },
  {
   "cell_type": "code",
   "execution_count": 2,
   "metadata": {},
   "outputs": [],
   "source": [
    "#num_friends = [random.randint(1,100) for i in range(100) ]\n",
    "num_friends = [100, 49, 41, 40, 25, 1, 1, 1, 1, 1, 2, 2, 2, 2, 3, 3, 3, 4,\n",
    " 4, 4, 5, 5, 6, 6, 7, 7, 7, 8, 8, 10, 11, 11, 12, 12,\n",
    " 15, 15, 15, 18, 20, 20]\n",
    "daily_min = [1, 39, 37, 35, 28, 7, 9, 8, 7, 8, 10, 11, 12, 9, 13, 15, 14,\n",
    " 14, 17, 16, 15, 19, 16, 21, 17, 19, 22, 18, 21, 20, 24, 23, 22, 25,\n",
    " 25, 27, 29, 28, 30, 32]\n"
   ]
  },
  {
   "cell_type": "code",
   "execution_count": 3,
   "metadata": {},
   "outputs": [
    {
     "data": {
      "image/png": "[encoded data removed]",
      "text/plain": [
       "<Figure size 432x288 with 1 Axes>"
      ]
     },
     "metadata": {
      "needs_background": "light"
     },
     "output_type": "display_data"
    }
   ],
   "source": [
    "friend_counts = Counter(num_friends)\n",
    "xs = range(101) # largest value is 100\n",
    "ys = [friend_counts[x] for x in xs] # height is just # of friends\n",
    "plt.bar(xs, ys)\n",
    "plt.axis([0, 101, 0, 8])\n",
    "plt.title(\"Histograma da contagem de amigos\")\n",
    "plt.xlabel(\"Qtde amigos\")\n",
    "plt.ylabel(\"Qtde de pessoas\")\n",
    "plt.show()"
   ]
  },
  {
   "cell_type": "code",
   "execution_count": 4,
   "metadata": {},
   "outputs": [
    {
     "name": "stdout",
     "output_type": "stream",
     "text": [
      "Tamanho da base: 40\n",
      "Maior quantidade de amigos 100\n",
      "Menor quantidade de amigos 1\n"
     ]
    }
   ],
   "source": [
    "print(\"Tamanho da base:\", len(num_friends))\n",
    "print(\"Maior quantidade de amigos\", max(num_friends))\n",
    "print(\"Menor quantidade de amigos\", min(num_friends))"
   ]
  },
  {
   "cell_type": "code",
   "execution_count": 5,
   "metadata": {},
   "outputs": [
    {
     "name": "stdout",
     "output_type": "stream",
     "text": [
      "Menor qtde de amigos = 1\n",
      "Decima menor qtde de amigos = 3\n",
      "Segunda maior qtde de amigos = 49\n"
     ]
    }
   ],
   "source": [
    "sorted_num_friends = sorted(num_friends)\n",
    "print(\"Menor qtde de amigos =\", sorted_num_friends[0])\n",
    "print(\"Decima menor qtde de amigos =\", sorted_num_friends[9])\n",
    "print(\"Segunda maior qtde de amigos =\", sorted_num_friends[-2])"
   ]
  },
  {
   "cell_type": "code",
   "execution_count": 6,
   "metadata": {},
   "outputs": [
    {
     "name": "stdout",
     "output_type": "stream",
     "text": [
      "A media de amigos = 12.675\n"
     ]
    }
   ],
   "source": [
    "def media(x):\n",
    "    return sum(x)/len(x)\n",
    "print(\"A media de amigos =\", media(num_friends))"
   ]
  },
  {
   "cell_type": "code",
   "execution_count": 8,
   "metadata": {},
   "outputs": [
    {
     "name": "stdout",
     "output_type": "stream",
     "text": [
      "A mediana de amigos = 7.0\n"
     ]
    }
   ],
   "source": [
    "def mediana(v):\n",
    "    n = len(v)\n",
    "    v_ordenado = sorted(v)\n",
    "    i_centro = n // 2\n",
    "    if n % 2 == 1:\n",
    "        return v_ordenado(i_centro)\n",
    "    else:\n",
    "        i_centro_2 = i_centro - 1\n",
    "        return (v_ordenado[i_centro_2] + v_ordenado[i_centro]) / 2\n",
    "\n",
    "print(\"A mediana de amigos =\", mediana(num_friends))\n"
   ]
  },
  {
   "cell_type": "code",
   "execution_count": 9,
   "metadata": {},
   "outputs": [],
   "source": [
    "def quantile(x, p):\n",
    "    \"\"\"returns the pth-percentile value in x\"\"\"\n",
    "    p_index = int(p * len(x))\n",
    "    return sorted(x)[p_index]\n",
    "#sorted(num_friends)"
   ]
  },
  {
   "cell_type": "code",
   "execution_count": 10,
   "metadata": {},
   "outputs": [
    {
     "name": "stdout",
     "output_type": "stream",
     "text": [
      "1\n",
      "3\n",
      "15\n",
      "40\n"
     ]
    }
   ],
   "source": [
    "print(quantile(num_friends, 0.10)) # 1\n",
    "print(quantile(num_friends, 0.25)) # 3\n",
    "print(quantile(num_friends, 0.75)) # 15\n",
    "print(quantile(num_friends, 0.90)) # 40\n"
   ]
  },
  {
   "cell_type": "code",
   "execution_count": 11,
   "metadata": {},
   "outputs": [
    {
     "name": "stdout",
     "output_type": "stream",
     "text": [
      "[1]\n"
     ]
    }
   ],
   "source": [
    "def mode(x):\n",
    "    \"\"\"returns a list, might be more than one mode\"\"\"\n",
    "    counts = Counter(x)\n",
    "    max_count = max(counts.values())\n",
    "    return [x_i for x_i, count in counts.items()\n",
    "        if count == max_count]\n",
    "print(mode(num_friends)) "
   ]
  },
  {
   "cell_type": "code",
   "execution_count": 12,
   "metadata": {},
   "outputs": [
    {
     "data": {
      "text/plain": [
       "99"
      ]
     },
     "execution_count": 12,
     "metadata": {},
     "output_type": "execute_result"
    }
   ],
   "source": [
    "def data_range(x):\n",
    "    return max(x) - min(x)\n",
    "data_range(num_friends) "
   ]
  },
  {
   "cell_type": "code",
   "execution_count": 13,
   "metadata": {},
   "outputs": [],
   "source": [
    "def de_mean(x):\n",
    "    x_bar = media(x)\n",
    "    return [x_i - x_bar for x_i in x]\n",
    "def sum_of_squares(x):\n",
    "    return sum([x_i * x_i for x_i in x])\n",
    "def variance(x):\n",
    "    n = len(x)\n",
    "    deviations = de_mean(x)\n",
    "    return sum_of_squares(deviations) / (n - 1)"
   ]
  },
  {
   "cell_type": "code",
   "execution_count": 14,
   "metadata": {},
   "outputs": [
    {
     "name": "stdout",
     "output_type": "stream",
     "text": [
      "Variância No amigos = 328.2762820512823\n",
      "Variância Tempo Online = 80.22499999999998\n"
     ]
    }
   ],
   "source": [
    "print(\"Variância No amigos =\", variance(num_friends))\n",
    "print(\"Variância Tempo Online =\", variance(daily_min))"
   ]
  },
  {
   "cell_type": "code",
   "execution_count": 15,
   "metadata": {},
   "outputs": [
    {
     "name": "stdout",
     "output_type": "stream",
     "text": [
      "18.118396232870126\n"
     ]
    }
   ],
   "source": [
    "def desvio_padrao(x):\n",
    "    return math.sqrt(variance(x))\n",
    "print(desvio_padrao(num_friends))"
   ]
  },
  {
   "cell_type": "code",
   "execution_count": 16,
   "metadata": {},
   "outputs": [],
   "source": [
    "import numpy as np"
   ]
  },
  {
   "cell_type": "code",
   "execution_count": 17,
   "metadata": {},
   "outputs": [
    {
     "name": "stdout",
     "output_type": "stream",
     "text": [
      "Notas flatted =  [ 5  8 10  7  8  6  6 10 10  9  5 10  8 10  9  4]\n",
      "Variância =  4.295833333333333\n",
      "Desvio padrão =  2.0726392192886185\n"
     ]
    }
   ],
   "source": [
    "notas = [[5, 8, 10, 7],\n",
    " [8, 6, 6, 10],\n",
    " [10, 9, 5, 10],\n",
    " [8, 10, 9, 4]]\n",
    "print(\"Notas flatted = \", np.array(notas).flatten())\n",
    "print(\"Variância = \", variance(np.array(notas).flatten()))\n",
    "print(\"Desvio padrão = \",desvio_padrao(np.array(notas).flatten()))\n"
   ]
  },
  {
   "cell_type": "code",
   "execution_count": 18,
   "metadata": {},
   "outputs": [
    {
     "data": {
      "text/plain": [
       "44.7173076923077"
      ]
     },
     "execution_count": 18,
     "metadata": {},
     "output_type": "execute_result"
    }
   ],
   "source": [
    "def dot(v, w):\n",
    "    return sum(v_i * w_i\n",
    " for v_i, w_i in zip(v, w))\n",
    "def covariance(x, y):\n",
    "    n = len(x)\n",
    "    return dot(de_mean(x), de_mean(y)) / (n - 1)\n",
    "covariance(num_friends, daily_min)"
   ]
  },
  {
   "cell_type": "code",
   "execution_count": 19,
   "metadata": {},
   "outputs": [
    {
     "data": {
      "text/plain": [
       "0.2755503912677958"
      ]
     },
     "execution_count": 19,
     "metadata": {},
     "output_type": "execute_result"
    }
   ],
   "source": [
    "def correlation(x, y):\n",
    "    stdev_x = desvio_padrao(x)\n",
    "    stdev_y = desvio_padrao(y)\n",
    "    if stdev_x > 0 and stdev_y > 0:\n",
    "        return covariance(x, y) / stdev_x / stdev_y\n",
    "    else:\n",
    "        return 0 # if no variation, correlation is zero\n",
    "\n",
    "correlation(num_friends, daily_min)"
   ]
  },
  {
   "cell_type": "code",
   "execution_count": 20,
   "metadata": {},
   "outputs": [
    {
     "data": {
      "image/png": "[encoded data removed]",
      "text/plain": [
       "<Figure size 432x288 with 1 Axes>"
      ]
     },
     "metadata": {
      "needs_background": "light"
     },
     "output_type": "display_data"
    }
   ],
   "source": [
    "plt.scatter(num_friends, daily_min)\n",
    "plt.title(\"Minutos por dia X numero de amigos\")\n",
    "plt.xlabel(\"Qtde de amigos\")\n",
    "plt.ylabel(\"Minutos por dia no site\")\n",
    "plt.show()\n"
   ]
  },
  {
   "cell_type": "code",
   "execution_count": 21,
   "metadata": {},
   "outputs": [
    {
     "data": {
      "image/png": "[encoded data removed]",
      "text/plain": [
       "<Figure size 432x288 with 1 Axes>"
      ]
     },
     "metadata": {
      "needs_background": "light"
     },
     "output_type": "display_data"
    }
   ],
   "source": [
    "plt.scatter(num_friends[1:], daily_min[1:])\n",
    "plt.title(\"Minutos por dia X numero de amigos\")\n",
    "plt.xlabel(\"Qtde de amigos\")\n",
    "plt.ylabel(\"Minutos por dia no site\")\n",
    "plt.show()"
   ]
  },
  {
   "cell_type": "code",
   "execution_count": 22,
   "metadata": {},
   "outputs": [
    {
     "ename": "SyntaxError",
     "evalue": "EOL while scanning string literal (<ipython-input-22-bcc43b5fa7c8>, line 1)",
     "output_type": "error",
     "traceback": [
      "\u001b[1;36m  File \u001b[1;32m\"<ipython-input-22-bcc43b5fa7c8>\"\u001b[1;36m, line \u001b[1;32m1\u001b[0m\n\u001b[1;33m    print(\"Correlação com outlier: \",correlation(num_friends, daily_min), \" -> Baixa\u001b[0m\n\u001b[1;37m                                                                                    ^\u001b[0m\n\u001b[1;31mSyntaxError\u001b[0m\u001b[1;31m:\u001b[0m EOL while scanning string literal\n"
     ]
    }
   ],
   "source": [
    "print(\"Correlação com outlier: \",correlation(num_friends, daily_min), \" -> Baixa\n",
    "correlação\")\n",
    "print(\"Correlação sem outlier: \",correlation(num_friends[1:], daily_min[1:]), \"Alta correlação\")"
   ]
  },
  {
   "cell_type": "code",
   "execution_count": 24,
   "metadata": {},
   "outputs": [
    {
     "name": "stdout",
     "output_type": "stream",
     "text": [
      "Correlação com outlier:  0.2755503912677958  -> Baixa correlação\n",
      "Correlação sem outlier:  0.9014335836717391  -> Alta correlação\n"
     ]
    }
   ],
   "source": [
    "print(\"Correlação com outlier: \",correlation(num_friends, daily_min), \" -> Baixa correlação\")\n",
    "print(\"Correlação sem outlier: \",correlation(num_friends[1:], daily_min[1:]), \" -> Alta correlação\")"
   ]
  },
  {
   "cell_type": "code",
   "execution_count": null,
   "metadata": {},
   "outputs": [],
   "source": []
  }
 ],
 "metadata": {
  "kernelspec": {
   "display_name": "Python 3",
   "language": "python",
   "name": "python3"
  },
  "language_info": {
   "codemirror_mode": {
    "name": "ipython",
    "version": 3
   },
   "file_extension": ".py",
   "mimetype": "text/x-python",
   "name": "python",
   "nbconvert_exporter": "python",
   "pygments_lexer": "ipython3",
   "version": "3.8.5"
  }
 },
 "nbformat": 4,
 "nbformat_minor": 4
}
