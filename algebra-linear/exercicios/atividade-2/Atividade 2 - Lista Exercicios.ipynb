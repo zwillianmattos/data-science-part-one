{
 "cells": [
  {
   "cell_type": "markdown",
   "metadata": {},
   "source": [
    "Willian de Mattos Silva"
   ]
  },
  {
   "cell_type": "code",
   "execution_count": 1,
   "metadata": {},
   "outputs": [],
   "source": [
    "from collections import Counter\n",
    "import matplotlib.pyplot as plt\n",
    "import numpy as np"
   ]
  },
  {
   "cell_type": "code",
   "execution_count": 2,
   "metadata": {},
   "outputs": [],
   "source": [
    "data = np.genfromtxt('seeds_dataset.txt', missing_values=0, delimiter='', usecols=(0,1,2,3,4,5,6))"
   ]
  },
  {
   "cell_type": "code",
   "execution_count": 3,
   "metadata": {},
   "outputs": [],
   "source": [
    "## EXERCICIO 1\n",
    "import estatisticas_lib as est\n",
    "import algebra_linear_lib as alg"
   ]
  },
  {
   "cell_type": "code",
   "execution_count": 4,
   "metadata": {},
   "outputs": [
    {
     "name": "stdout",
     "output_type": "stream",
     "text": [
      "Moda comprimento => [5.395, 5.236]\n",
      "Mediana comprimento => 5.5235\n",
      "Moda largura => [3.026]\n",
      "Mediana largura => 3.237\n"
     ]
    }
   ],
   "source": [
    "## EXERCICIO 2 - Imprima a moda e a mediana do comprimento e da largura de todas as instâncias.\n",
    "print('Moda comprimento =>', est.mode(data[:,3]))\n",
    "print('Mediana comprimento =>', est.mediana(data[:,3]))\n",
    "print('Moda largura =>', est.mode(data[:,4]))\n",
    "print('Mediana largura =>', est.mediana(data[:,4]))"
   ]
  },
  {
   "cell_type": "code",
   "execution_count": 5,
   "metadata": {},
   "outputs": [
    {
     "name": "stdout",
     "output_type": "stream",
     "text": [
      "Desvio padrao dos comprimentos de todos os grãos => 0.4430634777264492\n"
     ]
    }
   ],
   "source": [
    "## EXERCICIO 3 - Imprima o desvio padrão dos comprimentos de todos os grãos e explique o resultado\n",
    "print('Desvio padrao dos comprimentos de todos os grãos =>', est.desvio_padrao(data[:,3]))"
   ]
  },
  {
   "cell_type": "code",
   "execution_count": 6,
   "metadata": {},
   "outputs": [
    {
     "name": "stdout",
     "output_type": "stream",
     "text": [
      "Desvio padrao  das larguras de todos os grãos => 0.37771444490658723\n"
     ]
    }
   ],
   "source": [
    "## EXERCICIO 4 - Imprima o desvio padrão das larguras de todos os grãos e explique o resultado. \n",
    "print('Desvio padrao  das larguras de todos os grãos =>', est.desvio_padrao(data[:,4]))"
   ]
  },
  {
   "cell_type": "code",
   "execution_count": 7,
   "metadata": {},
   "outputs": [
    {
     "name": "stdout",
     "output_type": "stream",
     "text": [
      "Correlacao entre o comprimento e a largura de Kama => 0.5505605273038401\n",
      "Correlacao entre o comprimento e a largura de Rosa => 0.5130853843822178\n",
      "Correlacao entre o comprimento e a largura de Canadian => 0.08206079539342506\n"
     ]
    }
   ],
   "source": [
    "## EXERCICIO 5 - Imprima as correlações entre o comprimento e a largura de cada espécie e explique cada resultado.\n",
    "print('Correlacao entre o comprimento e a largura de Kama =>', est.correlation(data[:70,3],data[:70,4] ))\n",
    "print('Correlacao entre o comprimento e a largura de Rosa =>', est.correlation(data[70:140,3],data[70:140,4] ))\n",
    "print('Correlacao entre o comprimento e a largura de Canadian =>', est.correlation(data[140:,3],data[140:,4] ))"
   ]
  },
  {
   "cell_type": "code",
   "execution_count": 8,
   "metadata": {},
   "outputs": [
    {
     "name": "stdout",
     "output_type": "stream",
     "text": [
      "[5.534000000000001, 3.2435, 6.1485, 3.6935000000000002, 5.224, 2.8345000000000002]\n"
     ]
    }
   ],
   "source": [
    "## EXERCICIO 6 - Gere um gráfico de barras que mostre o comprimento médio e a largura média de cada espécie, com as médias gerais expressas em linhas horizontais\n",
    "valor_x = [\n",
    "    est.media(data[:70,3]),\n",
    "    est.media( data[:70,4] ), \n",
    "    est.media(data[70:140,3]), \n",
    "    est.media(data[70:140,4]), \n",
    "    est.media(data[140:,3]), \n",
    "    est.media(data[140:,4]) \n",
    "]\n",
    "print(valor_x)"
   ]
  },
  {
   "cell_type": "code",
   "execution_count": 9,
   "metadata": {},
   "outputs": [
    {
     "name": "stdout",
     "output_type": "stream",
     "text": [
      "3.6981217714285712\n"
     ]
    }
   ],
   "source": [
    "print( est.sum_of_squares( est.de_mean(data[:70,3]) ) )"
   ]
  },
  {
   "cell_type": "code",
   "execution_count": 10,
   "metadata": {},
   "outputs": [
    {
     "data": {
      "image/png": "[encoded data removed]",
      "text/plain": [
       "<Figure size 432x288 with 1 Axes>"
      ]
     },
     "metadata": {
      "needs_background": "light"
     },
     "output_type": "display_data"
    }
   ],
   "source": [
    "## EXERCICIO 6 - Gere um gráfico de barras que mostre o comprimento médio e a largura média de cada espécie, com as médias gerais expressas em linhas horizontais\n",
    "pos_y = [\n",
    "    est.media(data[:70,3]),\n",
    "    est.media(data[:70,4]),\n",
    "    est.media(data[70:140,3]),\n",
    "    est.media(data[70:140,4]),\n",
    "    est.media(data[140:,3]),\n",
    "    est.media(data[140:,4])\n",
    "]\n",
    "pos_x = [\"Comp. K\", \"Larg. K\", \"Comp. R\", \"Larg. R\", \"Comp. C\", \"Larg. C\"]\n",
    "comp_med_geral =  est.media(data[:,3])\n",
    "plt.axhline(comp_med_geral, color=\"r\")\n",
    "larg_med_geral =  est.media(data[:,4])\n",
    "plt.axhline(larg_med_geral, color=\"g\")\n",
    "plt.bar(pos_x, pos_y, color=\"blue\")\n",
    "plt.xticks(pos_x)\n",
    "plt.text(6, comp_med_geral,('Comp. Media Geral = %f'%(comp_med_geral)), va='center', ha=\"left\") \n",
    "plt.text(6, larg_med_geral,('Larg. Media Geral = %f'%(larg_med_geral)), va='center', ha=\"left\")\n",
    "plt.show()"
   ]
  },
  {
   "cell_type": "code",
   "execution_count": 11,
   "metadata": {},
   "outputs": [
    {
     "data": {
      "image/png": "[encoded data removed]",
      "text/plain": [
       "<Figure size 432x288 with 1 Axes>"
      ]
     },
     "metadata": {
      "needs_background": "light"
     },
     "output_type": "display_data"
    }
   ],
   "source": [
    "## EXERCICIO 7 - Gere um gráfico de dispersão que mostre a relação entre a área e o perímetro de cada grão de trigo.\n",
    "k = plt.scatter(data[:70,0],data[:70,1], marker='x', color='g')\n",
    "r = plt.scatter(data[70:140,0],data[70:140,1], marker='o', color='r')\n",
    "c  = plt.scatter(data[140:,0],data[140:,1], marker='o', color='b')\n",
    "\n",
    "plt.title(\"área x perímetro\")\n",
    "plt.xlabel(\"área\")\n",
    "plt.ylabel(\"perímetro\")\n",
    "plt.show()"
   ]
  },
  {
   "cell_type": "code",
   "execution_count": 12,
   "metadata": {},
   "outputs": [
    {
     "name": "stdout",
     "output_type": "stream",
     "text": [
      "57 0.30075586444822705\n"
     ]
    }
   ],
   "source": [
    "## EXERCICIO 8 - Usando o cálculo da distância entre dois vetores que aprendemos em aula, \n",
    "# informe qual é a semente que mais se parece com a primeira semente da base de dados (índice 0). \n",
    "# Sua resposta deverá ser composta pelo índice no vetor e pelo valor da distância, por exemplo: 97, 0.11234\n",
    "comparar = data[0]\n",
    "dados = data[1:]\n",
    "pos=[-1,-1]\n",
    "\n",
    "for index, semente in enumerate(dados):\n",
    "        dist = alg.distance( comparar, semente )\n",
    "        if dist <= pos[1]:\n",
    "            pos[0] = index\n",
    "            pos[1] = dist\n",
    "        if pos[1] == -1:\n",
    "            pos[0] = index\n",
    "            pos[1] = dist      \n",
    "print(pos[0], pos[1])"
   ]
  },
  {
   "cell_type": "code",
   "execution_count": null,
   "metadata": {},
   "outputs": [],
   "source": []
  }
 ],
 "metadata": {
  "kernelspec": {
   "display_name": "Python 3",
   "language": "python",
   "name": "python3"
  },
  "language_info": {
   "codemirror_mode": {
    "name": "ipython",
    "version": 3
   },
   "file_extension": ".py",
   "mimetype": "text/x-python",
   "name": "python",
   "nbconvert_exporter": "python",
   "pygments_lexer": "ipython3",
   "version": "3.8.5"
  }
 },
 "nbformat": 4,
 "nbformat_minor": 4
}
