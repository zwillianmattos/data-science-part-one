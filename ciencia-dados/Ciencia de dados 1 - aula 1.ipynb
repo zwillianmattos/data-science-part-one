{
 "cells": [
  {
   "cell_type": "markdown",
   "metadata": {},
   "source": [
    "# Job 1: Rede Social de Cientistas de Dados"
   ]
  },
  {
   "cell_type": "code",
   "execution_count": 1,
   "metadata": {},
   "outputs": [],
   "source": [
    "users = [\n",
    "{ \"id\": 0, \"name\": \"Hero\" },\n",
    "{ \"id\": 1, \"name\": \"Dunn\" },\n",
    "{ \"id\": 2, \"name\": \"Sue\" },\n",
    "{ \"id\": 3, \"name\": \"Chi\" },\n",
    "{ \"id\": 4, \"name\": \"Thor\" },\n",
    "{ \"id\": 5, \"name\": \"Clive\" },\n",
    "{ \"id\": 6, \"name\": \"Hicks\" },\n",
    "{ \"id\": 7, \"name\": \"Devin\" },\n",
    "{ \"id\": 8, \"name\": \"Kate\" },\n",
    "{ \"id\": 9, \"name\": \"Klein\" }\n",
    "]\n"
   ]
  },
  {
   "cell_type": "code",
   "execution_count": 2,
   "metadata": {},
   "outputs": [],
   "source": [
    "friendships = [(0, 1), (0, 2), (1, 2), (1, 3), (2, 3), (3, 4),\n",
    "(4, 5), (5, 6), (5, 7), (6, 8), (7, 8), (8, 9)]"
   ]
  },
  {
   "cell_type": "code",
   "execution_count": 3,
   "metadata": {},
   "outputs": [],
   "source": [
    "for user in users:\n",
    " user[\"friends\"] = []"
   ]
  },
  {
   "cell_type": "code",
   "execution_count": 4,
   "metadata": {},
   "outputs": [],
   "source": [
    "for i, j in friendships:\n",
    " users[i][\"friends\"].append(users[j])\n",
    " users[j][\"friends\"].append(users[i])\n"
   ]
  },
  {
   "cell_type": "code",
   "execution_count": 5,
   "metadata": {},
   "outputs": [
    {
     "data": {
      "text/plain": [
       "24"
      ]
     },
     "execution_count": 5,
     "metadata": {},
     "output_type": "execute_result"
    }
   ],
   "source": [
    "sum(len(user[\"friends\"]) for user in users)"
   ]
  },
  {
   "cell_type": "code",
   "execution_count": 6,
   "metadata": {},
   "outputs": [],
   "source": [
    "def number_of_friends(user):\n",
    " return len(user[\"friends\"])\n"
   ]
  },
  {
   "cell_type": "code",
   "execution_count": 7,
   "metadata": {},
   "outputs": [],
   "source": [
    "total_connections = sum(number_of_friends(user) for user in users)"
   ]
  },
  {
   "cell_type": "code",
   "execution_count": 8,
   "metadata": {},
   "outputs": [
    {
     "data": {
      "text/plain": [
       "2.4"
      ]
     },
     "execution_count": 8,
     "metadata": {},
     "output_type": "execute_result"
    }
   ],
   "source": [
    "num_users = len(users)\n",
    "avg_connections = total_connections / num_users\n",
    "avg_connections"
   ]
  },
  {
   "cell_type": "code",
   "execution_count": 14,
   "metadata": {},
   "outputs": [],
   "source": [
    "num_friends_by_id = ((user[\"id\"], number_of_friends(user)) for user in users)"
   ]
  },
  {
   "cell_type": "code",
   "execution_count": 15,
   "metadata": {},
   "outputs": [
    {
     "data": {
      "text/plain": [
       "<generator object <genexpr> at 0x000001E7BA8C9DD0>"
      ]
     },
     "execution_count": 15,
     "metadata": {},
     "output_type": "execute_result"
    }
   ],
   "source": [
    "num_friends_by_id\n"
   ]
  },
  {
   "cell_type": "code",
   "execution_count": 16,
   "metadata": {},
   "outputs": [
    {
     "data": {
      "text/plain": [
       "[(1, 3),\n",
       " (2, 3),\n",
       " (3, 3),\n",
       " (5, 3),\n",
       " (8, 3),\n",
       " (0, 2),\n",
       " (4, 2),\n",
       " (6, 2),\n",
       " (7, 2),\n",
       " (9, 1)]"
      ]
     },
     "execution_count": 16,
     "metadata": {},
     "output_type": "execute_result"
    }
   ],
   "source": [
    "sorted(num_friends_by_id, key=lambda x: x[1], reverse=True)"
   ]
  },
  {
   "cell_type": "markdown",
   "metadata": {},
   "source": [
    "# Job 2: Cientistas de Dados que talvez você conheça!\n"
   ]
  },
  {
   "cell_type": "code",
   "execution_count": 17,
   "metadata": {},
   "outputs": [],
   "source": [
    "def friends_of_friend_ids_bad(user):\n",
    " # \"foaf\" is short for \"friend of a friend\"\n",
    " return [foaf[\"id\"]\n",
    " for friend in user[\"friends\"] # for each of user's friends\n",
    " for foaf in friend[\"friends\"]] # get each of _their_ friends"
   ]
  },
  {
   "cell_type": "code",
   "execution_count": 18,
   "metadata": {},
   "outputs": [
    {
     "data": {
      "text/plain": [
       "[{'id': 4,\n",
       "  'name': 'Thor',\n",
       "  'friends': [{'id': 3,\n",
       "    'name': 'Chi',\n",
       "    'friends': [{'id': 1,\n",
       "      'name': 'Dunn',\n",
       "      'friends': [{'id': 0,\n",
       "        'name': 'Hero',\n",
       "        'friends': [{...},\n",
       "         {'id': 2, 'name': 'Sue', 'friends': [{...}, {...}, {...}]}]},\n",
       "       {'id': 2,\n",
       "        'name': 'Sue',\n",
       "        'friends': [{'id': 0, 'name': 'Hero', 'friends': [{...}, {...}]},\n",
       "         {...},\n",
       "         {...}]},\n",
       "       {...}]},\n",
       "     {'id': 2,\n",
       "      'name': 'Sue',\n",
       "      'friends': [{'id': 0,\n",
       "        'name': 'Hero',\n",
       "        'friends': [{'id': 1,\n",
       "          'name': 'Dunn',\n",
       "          'friends': [{...}, {...}, {...}]},\n",
       "         {...}]},\n",
       "       {'id': 1,\n",
       "        'name': 'Dunn',\n",
       "        'friends': [{'id': 0, 'name': 'Hero', 'friends': [{...}, {...}]},\n",
       "         {...},\n",
       "         {...}]},\n",
       "       {...}]},\n",
       "     {...}]},\n",
       "   {'id': 5, 'name': 'Clive', 'friends': [...]}]},\n",
       " {'id': 6,\n",
       "  'name': 'Hicks',\n",
       "  'friends': [{'id': 5, 'name': 'Clive', 'friends': [...]},\n",
       "   {'id': 8,\n",
       "    'name': 'Kate',\n",
       "    'friends': [{...},\n",
       "     {'id': 7,\n",
       "      'name': 'Devin',\n",
       "      'friends': [{'id': 5, 'name': 'Clive', 'friends': [...]}, {...}]},\n",
       "     {'id': 9, 'name': 'Klein', 'friends': [{...}]}]}]},\n",
       " {'id': 7,\n",
       "  'name': 'Devin',\n",
       "  'friends': [{'id': 5, 'name': 'Clive', 'friends': [...]},\n",
       "   {'id': 8,\n",
       "    'name': 'Kate',\n",
       "    'friends': [{'id': 6,\n",
       "      'name': 'Hicks',\n",
       "      'friends': [{'id': 5, 'name': 'Clive', 'friends': [...]}, {...}]},\n",
       "     {...},\n",
       "     {'id': 9, 'name': 'Klein', 'friends': [{...}]}]}]}]"
      ]
     },
     "execution_count": 18,
     "metadata": {},
     "output_type": "execute_result"
    }
   ],
   "source": [
    "users[5][\"friends\"]\n"
   ]
  },
  {
   "cell_type": "code",
   "execution_count": 19,
   "metadata": {},
   "outputs": [
    {
     "data": {
      "text/plain": [
       "[0, 2, 3, 0, 1, 3]"
      ]
     },
     "execution_count": 19,
     "metadata": {},
     "output_type": "execute_result"
    }
   ],
   "source": [
    "friends_of_friend_ids_bad(users[0])"
   ]
  },
  {
   "cell_type": "code",
   "execution_count": 20,
   "metadata": {},
   "outputs": [],
   "source": [
    "from collections import Counter"
   ]
  },
  {
   "cell_type": "code",
   "execution_count": 21,
   "metadata": {},
   "outputs": [],
   "source": [
    "def not_the_same(user, other_user):\n",
    " \"\"\"dois usuários não são os mesmos se possuem ids diferentes\"\"\"\n",
    " return user[\"id\"] != other_user[\"id\"]\n"
   ]
  },
  {
   "cell_type": "code",
   "execution_count": 23,
   "metadata": {},
   "outputs": [],
   "source": [
    "def not_friends(user, other_user):\n",
    " \"\"\"other_user não é um amigo se não está em user[“friends”];\n",
    " isso é, se é not_the_same com todas as pessoas em user[“friends”]\"\"\"\n",
    " return all(not_the_same(friend, other_user) for friend in user[\"friends\"])\n"
   ]
  },
  {
   "cell_type": "code",
   "execution_count": 25,
   "metadata": {},
   "outputs": [],
   "source": [
    "from collections import Counter\n",
    "def friends_of_friend_ids(user):\n",
    " return Counter(foaf[\"id\"]\n",
    " for friend in user[\"friends\"] # para cada um dos meus amigos\n",
    " for foaf in friend[\"friends\"] # para cada amigo de um dos meus amigo\n",
    " if not_the_same(user, foaf) # que não sejam eu\n",
    " and not_friends(user, foaf)) # e que não são meus amigos\n"
   ]
  },
  {
   "cell_type": "code",
   "execution_count": 26,
   "metadata": {},
   "outputs": [
    {
     "data": {
      "text/plain": [
       "Counter({3: 2})"
      ]
     },
     "execution_count": 26,
     "metadata": {},
     "output_type": "execute_result"
    }
   ],
   "source": [
    "friends_of_friend_ids(users[0])"
   ]
  },
  {
   "cell_type": "code",
   "execution_count": 27,
   "metadata": {},
   "outputs": [
    {
     "name": "stdout",
     "output_type": "stream",
     "text": [
      "Counter({0: 2, 5: 1})\n"
     ]
    }
   ],
   "source": [
    "print(friends_of_friend_ids(users[3]))\n"
   ]
  },
  {
   "cell_type": "code",
   "execution_count": null,
   "metadata": {},
   "outputs": [],
   "source": []
  }
 ],
 "metadata": {
  "kernelspec": {
   "display_name": "Python 3",
   "language": "python",
   "name": "python3"
  },
  "language_info": {
   "codemirror_mode": {
    "name": "ipython",
    "version": 3
   },
   "file_extension": ".py",
   "mimetype": "text/x-python",
   "name": "python",
   "nbconvert_exporter": "python",
   "pygments_lexer": "ipython3",
   "version": "3.8.5"
  }
 },
 "nbformat": 4,
 "nbformat_minor": 4
}
